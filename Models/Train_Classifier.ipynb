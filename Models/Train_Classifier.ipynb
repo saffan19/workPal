{
 "cells": [
  {
   "cell_type": "markdown",
   "metadata": {
    "id": "YqvzmyirU5U1"
   },
   "source": [
    "**IMPORTS**"
   ]
  },
  {
   "cell_type": "code",
   "execution_count": 21,
   "metadata": {
    "id": "JN1q4r8eVv4U"
   },
   "outputs": [],
   "source": [
    "import pandas as pd\n",
    "from sklearn.linear_model import LogisticRegression\n",
    "from sklearn.model_selection import train_test_split\n",
    "from sklearn.metrics import accuracy_score\n",
    "from sklearn.svm import SVC\n",
    "from sklearn.neighbors import KNeighborsClassifier\n",
    "from sklearn.ensemble import RandomForestClassifier\n",
    "from sklearn.tree import DecisionTreeClassifier\n",
    "from sklearn.naive_bayes import GaussianNB"
   ]
  },
  {
   "cell_type": "markdown",
   "metadata": {
    "id": "syjnfEqLV0wC"
   },
   "source": [
    "Load and prepare data"
   ]
  },
  {
   "cell_type": "code",
   "execution_count": 12,
   "metadata": {
    "id": "bUA7TMR9StDM"
   },
   "outputs": [],
   "source": [
    "\n",
    "# Load the dataset\n",
    "data = pd.read_csv('/content/shuffled_dataset.csv')\n",
    "\n",
    "# Split the dataset into features and label\n",
    "X = data.drop('label', axis=1)\n",
    "y = data['label']\n",
    "\n",
    "# Split the dataset into train and test sets\n",
    "X_train, X_test, y_train, y_test = train_test_split(X, y, test_size=0.2, random_state=42)\n"
   ]
  },
  {
   "cell_type": "code",
   "execution_count": 13,
   "metadata": {
    "colab": {
     "base_uri": "https://localhost:8080/"
    },
    "id": "Smnh1U2nV8Pg",
    "outputId": "2d171bbd-e942-46bb-dc62-a0b3403de8dd"
   },
   "outputs": [
    {
     "name": "stdout",
     "output_type": "stream",
     "text": [
      "Accuracy: 0.8823529411764706\n"
     ]
    }
   ],
   "source": [
    "# Train a logistic regression model\n",
    "modelLR = LogisticRegression()\n",
    "modelLR.fit(X_train, y_train)\n",
    "\n",
    "# Predict the labels for the test set\n",
    "y_pred = modelLR.predict(X_test)\n",
    "\n",
    "# Calculate the accuracy of the model\n",
    "accuracy = accuracy_score(y_test, y_pred)\n",
    "print('Accuracy:', accuracy)"
   ]
  },
  {
   "cell_type": "markdown",
   "metadata": {
    "id": "qRo4rrrBVBCa"
   },
   "source": [
    "**SVM**"
   ]
  },
  {
   "cell_type": "code",
   "execution_count": 14,
   "metadata": {
    "colab": {
     "base_uri": "https://localhost:8080/"
    },
    "id": "_Wj7KvnAVATR",
    "outputId": "f8401ce0-fca4-4c36-8619-0e35745219ed"
   },
   "outputs": [
    {
     "name": "stdout",
     "output_type": "stream",
     "text": [
      "Accuracy: 0.8823529411764706\n"
     ]
    }
   ],
   "source": [
    "# Train an SVM model\n",
    "modelSVM = SVC(kernel='linear')\n",
    "modelSVM.fit(X_train, y_train)\n",
    "\n",
    "# Predict the labels for the test set\n",
    "y_pred = modelSVM.predict(X_test)\n",
    "\n",
    "# Calculate the accuracy of the model\n",
    "accuracy = accuracy_score(y_test, y_pred)\n",
    "print('Accuracy:', accuracy)\n"
   ]
  },
  {
   "cell_type": "markdown",
   "metadata": {
    "id": "V3upbJNtVTtW"
   },
   "source": [
    "**KNN**"
   ]
  },
  {
   "cell_type": "code",
   "execution_count": 15,
   "metadata": {
    "colab": {
     "base_uri": "https://localhost:8080/"
    },
    "id": "4x-JlbnRVfms",
    "outputId": "5f43fb17-c11e-450c-c0b1-b0f74411a960"
   },
   "outputs": [
    {
     "name": "stdout",
     "output_type": "stream",
     "text": [
      "Accuracy: 0.7647058823529411\n"
     ]
    }
   ],
   "source": [
    "# Train a KNN model\n",
    "modelKNN = KNeighborsClassifier()\n",
    "modelKNN.fit(X_train, y_train)\n",
    "\n",
    "# Predict the labels for the test set\n",
    "y_pred = modelKNN.predict(X_test)\n",
    "\n",
    "# Calculate the accuracy of the model\n",
    "accuracy = accuracy_score(y_test, y_pred)\n",
    "print('Accuracy:', accuracy)\n"
   ]
  },
  {
   "cell_type": "markdown",
   "metadata": {
    "id": "DMatD3WhXw0S"
   },
   "source": [
    "Random Forest"
   ]
  },
  {
   "cell_type": "code",
   "execution_count": 18,
   "metadata": {
    "colab": {
     "base_uri": "https://localhost:8080/"
    },
    "id": "ha0_WZf9Xyom",
    "outputId": "7dc95a13-b2ba-4065-f5ed-e604ea91cef5"
   },
   "outputs": [
    {
     "name": "stdout",
     "output_type": "stream",
     "text": [
      "Accuracy: 0.8823529411764706\n"
     ]
    }
   ],
   "source": [
    "# Train a random forest classifier model\n",
    "modelRF = RandomForestClassifier()\n",
    "modelRF.fit(X_train, y_train)\n",
    "\n",
    "# Predict the labels for the test set\n",
    "y_pred = modelRF.predict(X_test)\n",
    "\n",
    "# Calculate the accuracy of the model\n",
    "accuracy = accuracy_score(y_test, y_pred)\n",
    "print('Accuracy:', accuracy)"
   ]
  },
  {
   "cell_type": "markdown",
   "metadata": {
    "id": "9KP71RbcYF0n"
   },
   "source": [
    "Decision Tree"
   ]
  },
  {
   "cell_type": "code",
   "execution_count": 20,
   "metadata": {
    "colab": {
     "base_uri": "https://localhost:8080/"
    },
    "id": "WdxU0jI-YHGG",
    "outputId": "40863227-d53a-4dc0-cb70-2d315d177ce2"
   },
   "outputs": [
    {
     "name": "stdout",
     "output_type": "stream",
     "text": [
      "Accuracy: 0.8823529411764706\n"
     ]
    }
   ],
   "source": [
    "modelDT = DecisionTreeClassifier()\n",
    "modelDT.fit(X_train, y_train)\n",
    "\n",
    "# Predict the labels for the test set\n",
    "y_pred = modelDT.predict(X_test)\n",
    "\n",
    "# Calculate the accuracy of the model\n",
    "accuracy = accuracy_score(y_test, y_pred)\n",
    "print('Accuracy:', accuracy)"
   ]
  },
  {
   "cell_type": "markdown",
   "metadata": {
    "id": "Vbd0Hx2kYVJl"
   },
   "source": [
    "Naive Bayes Classifier"
   ]
  },
  {
   "cell_type": "code",
   "execution_count": 23,
   "metadata": {
    "colab": {
     "base_uri": "https://localhost:8080/"
    },
    "id": "11YzQDm_YUkC",
    "outputId": "44f5cd3f-c6cd-4d8b-c88d-007b286bae3a"
   },
   "outputs": [
    {
     "name": "stdout",
     "output_type": "stream",
     "text": [
      "Accuracy: 0.8235294117647058\n"
     ]
    }
   ],
   "source": [
    "modelNB = GaussianNB()\n",
    "modelNB.fit(X_train, y_train)\n",
    "\n",
    "# Predict the labels for the test set\n",
    "y_pred = modelNB.predict(X_test)\n",
    "\n",
    "# Calculate the accuracy of the model\n",
    "accuracy = accuracy_score(y_test, y_pred)\n",
    "print('Accuracy:', accuracy)"
   ]
  },
  {
   "cell_type": "code",
   "execution_count": 24,
   "metadata": {
    "id": "jRU0AdRBYz75"
   },
   "outputs": [],
   "source": [
    "import pickle\n",
    "\n",
    "# save Logistic Regression model\n",
    "with open('modelLR.pkl', 'wb') as f:\n",
    "    pickle.dump(modelLR, f)\n",
    "\n",
    "# save SVM model\n",
    "with open('modelSVM.pkl', 'wb') as f:\n",
    "    pickle.dump(modelSVM, f)\n",
    "\n",
    "# save KNN model\n",
    "with open('modelKNN.pkl', 'wb') as f:\n",
    "    pickle.dump(modelKNN, f)\n",
    "\n",
    "# save Random Forest model\n",
    "with open('modelRF.pkl', 'wb') as f:\n",
    "    pickle.dump(modelRF, f)\n",
    "\n",
    "# save Decision Tree model\n",
    "with open('modelDT.pkl', 'wb') as f:\n",
    "    pickle.dump(modelDT, f)\n",
    "\n",
    "# save Naive Bayes model\n",
    "with open('modelNB.pkl', 'wb') as f:\n",
    "    pickle.dump(modelNB, f)\n"
   ]
  },
  {
   "cell_type": "code",
   "execution_count": 33,
   "metadata": {
    "colab": {
     "base_uri": "https://localhost:8080/",
     "height": 994
    },
    "id": "NUQxV1iFbPJ_",
    "outputId": "6a1ded48-6547-410d-ba31-82760d5a1e15"
   },
   "outputs": [
    {
     "name": "stdout",
     "output_type": "stream",
     "text": [
      " accuracy: 0.845, time: 0.009s\n",
      " accuracy: 0.857, time: 0.004s\n",
      " accuracy: 0.845, time: 0.009s\n",
      " accuracy: 0.976, time: 0.048s\n",
      " accuracy: 0.976, time: 0.004s\n",
      " accuracy: 0.857, time: 0.004s\n"
     ]
    },
    {
     "data": {
      "image/png": "[encoded data removed]",
      "text/plain": [
       "<Figure size 640x480 with 1 Axes>"
      ]
     },
     "metadata": {},
     "output_type": "display_data"
    },
    {
     "data": {
      "image/png": "[encoded data removed]",
      "text/plain": [
       "<Figure size 640x480 with 1 Axes>"
      ]
     },
     "metadata": {},
     "output_type": "display_data"
    }
   ],
   "source": [
    "import time\n",
    "# Calculate the accuracy and time taken for each model\n",
    "accuracies = []\n",
    "times = []\n",
    "for model in [modelLR, modelSVM, modelKNN, modelRF, modelDT, modelNB]:\n",
    "    start_time = time.time()\n",
    "    y_pred = model.predict(X)\n",
    "    accuracy = accuracy_score(y, y_pred)\n",
    "    end_time = time.time()\n",
    "    accuracies.append(accuracy)\n",
    "    times.append(end_time - start_time)\n",
    "    print(f\" accuracy: {accuracy:.3f}, time: {end_time - start_time:.3f}s\")\n",
    "\n",
    "# Plot the accuracies for each model\n",
    "plt.bar(models, accuracies)\n",
    "plt.xlabel('Model')\n",
    "plt.ylabel('Accuracy')\n",
    "plt.ylim([0, 1])\n",
    "plt.show()\n",
    "\n",
    "# Plot the times for each model\n",
    "plt.bar(models, times)\n",
    "plt.xlabel('Model')\n",
    "plt.ylabel('Time (seconds)')\n",
    "plt.show()"
   ]
  }
 ],
 "metadata": {
  "colab": {
   "provenance": []
  },
  "kernelspec": {
   "display_name": "Python 3",
   "language": "python",
   "name": "python3"
  },
  "language_info": {
   "codemirror_mode": {
    "name": "ipython",
    "version": 3
   },
   "file_extension": ".py",
   "mimetype": "text/x-python",
   "name": "python",
   "nbconvert_exporter": "python",
   "pygments_lexer": "ipython3",
   "version": "3.8.8"
  }
 },
 "nbformat": 4,
 "nbformat_minor": 1
}
